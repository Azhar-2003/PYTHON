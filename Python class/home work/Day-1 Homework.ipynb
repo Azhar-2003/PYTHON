{
 "cells": [
  {
   "cell_type": "code",
   "execution_count": 2,
   "id": "cffe540b-bfe3-478b-92d6-fbacd5e8706e",
   "metadata": {},
   "outputs": [
    {
     "name": "stdout",
     "output_type": "stream",
     "text": [
      "Azhar\n"
     ]
    }
   ],
   "source": [
    "#Legal Variable\n",
    "name = \"Azhar\" # variable storing a string\n",
    "print(name)\n"
   ]
  },
  {
   "cell_type": "code",
   "execution_count": 3,
   "id": "06a2956d-6b98-4052-9724-362073097096",
   "metadata": {},
   "outputs": [
    {
     "name": "stdout",
     "output_type": "stream",
     "text": [
      "21\n"
     ]
    }
   ],
   "source": [
    "age = 21  # variable storing an integer\n",
    "print(age)"
   ]
  },
  {
   "cell_type": "code",
   "execution_count": 4,
   "id": "3f0d9c7e-ac6a-491b-aa2b-6e10b0603480",
   "metadata": {},
   "outputs": [
    {
     "name": "stdout",
     "output_type": "stream",
     "text": [
      "1001\n"
     ]
    }
   ],
   "source": [
    "student_id = 1001 # variable storing a numeric ID\n",
    "print(student_id)"
   ]
  },
  {
   "cell_type": "code",
   "execution_count": 5,
   "id": "b6c925d2-394b-4332-aff7-4c5afd49a370",
   "metadata": {},
   "outputs": [
    {
     "name": "stdout",
     "output_type": "stream",
     "text": [
      "250.5\n"
     ]
    }
   ],
   "source": [
    "_price = 250.50  # variable storing a float (valid since it starts with _)\n",
    "print(_price)"
   ]
  },
  {
   "cell_type": "code",
   "execution_count": 6,
   "id": "69119fae-2266-4994-b594-03e85fd18d84",
   "metadata": {},
   "outputs": [
    {
     "name": "stdout",
     "output_type": "stream",
     "text": [
      "Python\n"
     ]
    }
   ],
   "source": [
    "myVar123 = \"Python\" # variable storing a string with letters + numbers\n",
    "print(myVar123)"
   ]
  },
  {
   "cell_type": "code",
   "execution_count": 8,
   "id": "a46a9732-366e-4ac0-abc3-846eb5789584",
   "metadata": {},
   "outputs": [
    {
     "ename": "SyntaxError",
     "evalue": "invalid decimal literal (2677296748.py, line 2)",
     "output_type": "error",
     "traceback": [
      "\u001b[1;36m  Cell \u001b[1;32mIn[8], line 2\u001b[1;36m\u001b[0m\n\u001b[1;33m    2nd_name = \"Ali\"     #  cannot start with a digit\u001b[0m\n\u001b[1;37m    ^\u001b[0m\n\u001b[1;31mSyntaxError\u001b[0m\u001b[1;31m:\u001b[0m invalid decimal literal\n"
     ]
    }
   ],
   "source": [
    "#Illegal Variable\n",
    "2nd_name = \"Ali\"     #  cannot start with a digit"
   ]
  },
  {
   "cell_type": "code",
   "execution_count": 9,
   "id": "c92cfac1-e3c5-4df5-8a01-26406fef6c41",
   "metadata": {},
   "outputs": [
    {
     "ename": "SyntaxError",
     "evalue": "cannot assign to expression here. Maybe you meant '==' instead of '='? (251518255.py, line 1)",
     "output_type": "error",
     "traceback": [
      "\u001b[1;36m  Cell \u001b[1;32mIn[9], line 1\u001b[1;36m\u001b[0m\n\u001b[1;33m    my-var = 50          #  cannot contain a hyphen\u001b[0m\n\u001b[1;37m    ^\u001b[0m\n\u001b[1;31mSyntaxError\u001b[0m\u001b[1;31m:\u001b[0m cannot assign to expression here. Maybe you meant '==' instead of '='?\n"
     ]
    }
   ],
   "source": [
    "my-var = 50          #  cannot contain a hyphen"
   ]
  },
  {
   "cell_type": "code",
   "execution_count": 2,
   "id": "ca3978ad-352b-412e-b669-1c3b3a18807f",
   "metadata": {},
   "outputs": [
    {
     "ename": "SyntaxError",
     "evalue": "invalid syntax (2777714286.py, line 1)",
     "output_type": "error",
     "traceback": [
      "\u001b[1;36m  Cell \u001b[1;32mIn[2], line 1\u001b[1;36m\u001b[0m\n\u001b[1;33m    my var =1\u001b[0m\n\u001b[1;37m       ^\u001b[0m\n\u001b[1;31mSyntaxError\u001b[0m\u001b[1;31m:\u001b[0m invalid syntax\n"
     ]
    }
   ],
   "source": [
    "my var =1"
   ]
  },
  {
   "cell_type": "code",
   "execution_count": 1,
   "id": "b5dbe263-68f4-422c-8b32-a7a24c6c3ed2",
   "metadata": {},
   "outputs": [
    {
     "ename": "SyntaxError",
     "evalue": "cannot assign to expression here. Maybe you meant '==' instead of '='? (1111440723.py, line 1)",
     "output_type": "error",
     "traceback": [
      "\u001b[1;36m  Cell \u001b[1;32mIn[1], line 1\u001b[1;36m\u001b[0m\n\u001b[1;33m    num-ber =1\u001b[0m\n\u001b[1;37m    ^\u001b[0m\n\u001b[1;31mSyntaxError\u001b[0m\u001b[1;31m:\u001b[0m cannot assign to expression here. Maybe you meant '==' instead of '='?\n"
     ]
    }
   ],
   "source": [
    "num-ber =1"
   ]
  },
  {
   "cell_type": "code",
   "execution_count": 3,
   "id": "23fd18e3-725b-41ad-9bb1-e35de88457f7",
   "metadata": {},
   "outputs": [
    {
     "ename": "SyntaxError",
     "evalue": "invalid syntax (157240783.py, line 1)",
     "output_type": "error",
     "traceback": [
      "\u001b[1;36m  Cell \u001b[1;32mIn[3], line 1\u001b[1;36m\u001b[0m\n\u001b[1;33m    @my var=1\u001b[0m\n\u001b[1;37m        ^\u001b[0m\n\u001b[1;31mSyntaxError\u001b[0m\u001b[1;31m:\u001b[0m invalid syntax\n"
     ]
    }
   ],
   "source": [
    "@my var=1"
   ]
  },
  {
   "cell_type": "code",
   "execution_count": null,
   "id": "ae6bba4d-4f9b-4149-9681-f224cc790579",
   "metadata": {},
   "outputs": [],
   "source": []
  }
 ],
 "metadata": {
  "kernelspec": {
   "display_name": "Python [conda env:base] *",
   "language": "python",
   "name": "conda-base-py"
  },
  "language_info": {
   "codemirror_mode": {
    "name": "ipython",
    "version": 3
   },
   "file_extension": ".py",
   "mimetype": "text/x-python",
   "name": "python",
   "nbconvert_exporter": "python",
   "pygments_lexer": "ipython3",
   "version": "3.13.5"
  }
 },
 "nbformat": 4,
 "nbformat_minor": 5
}
