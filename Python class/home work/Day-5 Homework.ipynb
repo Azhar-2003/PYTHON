{
 "cells": [
  {
   "cell_type": "code",
   "execution_count": 1,
   "id": "60f39dc5-f442-4535-9281-adcfcf51acca",
   "metadata": {},
   "outputs": [
    {
     "name": "stdout",
     "output_type": "stream",
     "text": [
      "['azhar']\n",
      "True\n",
      "False\n",
      "True\n"
     ]
    }
   ],
   "source": [
    "#identity operator\n",
    "x =[\"azhar\"]\n",
    "y =[\"azhar\"]\n",
    "z = x\n",
    "print(z)\n",
    "print(x is z)\n",
    "print(x is y)\n",
    "print(x == y)"
   ]
  },
  {
   "cell_type": "code",
   "execution_count": 2,
   "id": "7376fa24-79b4-46ef-b2f8-a72818f0d7c6",
   "metadata": {},
   "outputs": [
    {
     "name": "stdout",
     "output_type": "stream",
     "text": [
      "False\n",
      "True\n"
     ]
    }
   ],
   "source": [
    "X=257\n",
    "Y=257\n",
    "print(X is Y)\n",
    "print(x is not y)"
   ]
  },
  {
   "cell_type": "code",
   "execution_count": 4,
   "id": "b5d31357-2ce9-4269-989a-8642294e3685",
   "metadata": {},
   "outputs": [
    {
     "name": "stdout",
     "output_type": "stream",
     "text": [
      "False\n",
      "True\n"
     ]
    }
   ],
   "source": [
    "X=257\n",
    "Y=180\n",
    "print(X is Y)\n",
    "print(x is not y)"
   ]
  },
  {
   "cell_type": "code",
   "execution_count": 5,
   "id": "15bcd267-7820-47ca-ae48-f8dbb82a44b3",
   "metadata": {},
   "outputs": [
    {
     "data": {
      "text/plain": [
       "True"
      ]
     },
     "execution_count": 5,
     "metadata": {},
     "output_type": "execute_result"
    }
   ],
   "source": [
    "a=\"hi\"\n",
    "b=\"hello\"\n",
    "a is  not b"
   ]
  },
  {
   "cell_type": "code",
   "execution_count": 6,
   "id": "9dc105d8-ad0c-4d0f-86dd-c8563aa33789",
   "metadata": {},
   "outputs": [
    {
     "name": "stdout",
     "output_type": "stream",
     "text": [
      "False\n"
     ]
    }
   ],
   "source": [
    "#Membership operator\n",
    "a=\"azhar\"\n",
    "\n",
    "print(\"h\" not  in a)"
   ]
  },
  {
   "cell_type": "code",
   "execution_count": 7,
   "id": "c745e0e2-15a0-4979-acf5-0d5df5145381",
   "metadata": {},
   "outputs": [
    {
     "name": "stdout",
     "output_type": "stream",
     "text": [
      "True\n"
     ]
    }
   ],
   "source": [
    "a=\"hi azhar latheef\"\n",
    "\n",
    "print(\"hi\"   in a)"
   ]
  },
  {
   "cell_type": "code",
   "execution_count": 8,
   "id": "9ea46955-8550-4582-879f-dc209816d3e8",
   "metadata": {},
   "outputs": [
    {
     "data": {
      "text/plain": [
       "False"
      ]
     },
     "execution_count": 8,
     "metadata": {},
     "output_type": "execute_result"
    }
   ],
   "source": [
    "a=(1,2,4,5)\n",
    "7 in a"
   ]
  },
  {
   "cell_type": "code",
   "execution_count": 9,
   "id": "400ce57a-af92-4380-aa43-523733bad5f7",
   "metadata": {},
   "outputs": [
    {
     "name": "stdout",
     "output_type": "stream",
     "text": [
      "31\n"
     ]
    }
   ],
   "source": [
    "#bitwise operator\n",
    "print(15 |  18)"
   ]
  },
  {
   "cell_type": "code",
   "execution_count": 12,
   "id": "c6ed1aae-7786-4221-9f3b-673cb4baa313",
   "metadata": {},
   "outputs": [
    {
     "name": "stdout",
     "output_type": "stream",
     "text": [
      "0b1111000\n",
      "0b10100\n"
     ]
    }
   ],
   "source": [
    "a=120\n",
    "b=20\n",
    "c=bin(a)\n",
    "\n",
    "print(c)\n",
    "\n",
    "d=bin(b)\n",
    "\n",
    "print(d)\n",
    "# print(a|b)"
   ]
  },
  {
   "cell_type": "code",
   "execution_count": 13,
   "id": "63bc309d-96f6-4157-9de2-18057a7924bc",
   "metadata": {},
   "outputs": [
    {
     "name": "stdout",
     "output_type": "stream",
     "text": [
      "124\n"
     ]
    }
   ],
   "source": [
    "print(a|b)"
   ]
  },
  {
   "cell_type": "code",
   "execution_count": 14,
   "id": "beee152d-676b-4f30-a5b7-214ebd314b29",
   "metadata": {},
   "outputs": [
    {
     "name": "stdout",
     "output_type": "stream",
     "text": [
      "0b110\n",
      "0b11\n",
      "2\n"
     ]
    }
   ],
   "source": [
    "a=6\n",
    "b=3\n",
    "c=bin(a)\n",
    "c\n",
    "d=bin(b)\n",
    "print(c)\n",
    "print(d)\n",
    "print(a&b)"
   ]
  },
  {
   "cell_type": "code",
   "execution_count": 16,
   "id": "ffb70f8b-59e5-4391-af7d-ca5a133e3c83",
   "metadata": {},
   "outputs": [
    {
     "name": "stdout",
     "output_type": "stream",
     "text": [
      "15\n"
     ]
    }
   ],
   "source": [
    "#bitwise XOR\n",
    "print(5 ^ 10)\n"
   ]
  },
  {
   "cell_type": "code",
   "execution_count": 17,
   "id": "1a39c966-71a2-42e9-bd9c-b5a314995c7d",
   "metadata": {},
   "outputs": [
    {
     "name": "stdout",
     "output_type": "stream",
     "text": [
      "1\n"
     ]
    }
   ],
   "source": [
    "print(8 >> 3)"
   ]
  },
  {
   "cell_type": "code",
   "execution_count": null,
   "id": "950b45f8-d82b-4ca7-b783-c9d5e347e43f",
   "metadata": {},
   "outputs": [],
   "source": [
    "print()"
   ]
  }
 ],
 "metadata": {
  "kernelspec": {
   "display_name": "Python [conda env:base] *",
   "language": "python",
   "name": "conda-base-py"
  },
  "language_info": {
   "codemirror_mode": {
    "name": "ipython",
    "version": 3
   },
   "file_extension": ".py",
   "mimetype": "text/x-python",
   "name": "python",
   "nbconvert_exporter": "python",
   "pygments_lexer": "ipython3",
   "version": "3.13.5"
  }
 },
 "nbformat": 4,
 "nbformat_minor": 5
}
