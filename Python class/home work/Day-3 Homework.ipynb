{
 "cells": [
  {
   "cell_type": "code",
   "execution_count": 1,
   "id": "c22338ec-b4b7-4621-b344-076648793f1e",
   "metadata": {},
   "outputs": [
    {
     "name": "stdout",
     "output_type": "stream",
     "text": [
      "hi how are you ,i am fine\n"
     ]
    }
   ],
   "source": [
    "#string\n",
    "k=\"hi how are you ,i am fine\"\n",
    "print(k)"
   ]
  },
  {
   "cell_type": "code",
   "execution_count": 2,
   "id": "c9a1c1b0-9f28-4309-a0d9-0459fc87fceb",
   "metadata": {},
   "outputs": [
    {
     "name": "stdout",
     "output_type": "stream",
     "text": [
      " Late at night, Emma found an old, \n",
      "    dusty key hidden under a loose floorboard.\n",
      "    Curiosity led her to the attic, \n",
      "    where she discovered a locked chest that seemed to hum with energy. \n",
      "    As she turned the key, the chest creaked open, \n",
      "    revealing a portal to a world she never imagined.\n"
     ]
    }
   ],
   "source": [
    "#multiline string\n",
    "k=\"\"\" Late at night, Emma found an old, \n",
    "    dusty key hidden under a loose floorboard.\n",
    "    Curiosity led her to the attic, \n",
    "    where she discovered a locked chest that seemed to hum with energy. \n",
    "    As she turned the key, the chest creaked open, \n",
    "    revealing a portal to a world she never imagined.\"\"\"\n",
    "\n",
    "print(k)"
   ]
  },
  {
   "cell_type": "code",
   "execution_count": 3,
   "id": "f30a0dbb-c892-4bf3-922d-667f19c74fe0",
   "metadata": {},
   "outputs": [
    {
     "name": "stdout",
     "output_type": "stream",
     "text": [
      "14\n"
     ]
    }
   ],
   "source": [
    "#string length\n",
    "k=\"hi how are you\"\n",
    "print(len(k))"
   ]
  },
  {
   "cell_type": "code",
   "execution_count": 4,
   "id": "762e758a-92c0-48db-812e-e98bdc28c1af",
   "metadata": {},
   "outputs": [
    {
     "name": "stdout",
     "output_type": "stream",
     "text": [
      "r\n"
     ]
    }
   ],
   "source": [
    "#string indexing\n",
    "b = \"Hello,  World!\"\n",
    "print(b[-4])"
   ]
  },
  {
   "cell_type": "code",
   "execution_count": 5,
   "id": "c857ad75-9cff-483b-b426-1c0dfa5c4be7",
   "metadata": {},
   "outputs": [
    {
     "name": "stdout",
     "output_type": "stream",
     "text": [
      "besant\n"
     ]
    }
   ],
   "source": [
    "#string slicing\n",
    "b = \"welcome, besant!\"\n",
    "print(b[-7:-1])"
   ]
  },
  {
   "cell_type": "code",
   "execution_count": null,
   "id": "cae8cfd6-fd6f-48d7-8fa8-e121add40099",
   "metadata": {},
   "outputs": [],
   "source": []
  }
 ],
 "metadata": {
  "kernelspec": {
   "display_name": "Python [conda env:base] *",
   "language": "python",
   "name": "conda-base-py"
  },
  "language_info": {
   "codemirror_mode": {
    "name": "ipython",
    "version": 3
   },
   "file_extension": ".py",
   "mimetype": "text/x-python",
   "name": "python",
   "nbconvert_exporter": "python",
   "pygments_lexer": "ipython3",
   "version": "3.13.5"
  }
 },
 "nbformat": 4,
 "nbformat_minor": 5
}
