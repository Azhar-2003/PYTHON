{
 "cells": [
  {
   "cell_type": "code",
   "execution_count": 1,
   "id": "9a5d42bd-6e8e-4436-bb05-98cc71ef7695",
   "metadata": {},
   "outputs": [
    {
     "name": "stdout",
     "output_type": "stream",
     "text": [
      "<class 'str'>\n"
     ]
    }
   ],
   "source": [
    "# String\n",
    "k = \"%%%^8999\"\n",
    "print(type(k))   # <class 'str'>"
   ]
  },
  {
   "cell_type": "code",
   "execution_count": 3,
   "id": "c4a744fc-3d78-41bd-a383-31e78fb363d5",
   "metadata": {},
   "outputs": [
    {
     "name": "stdout",
     "output_type": "stream",
     "text": [
      "<class 'int'>\n"
     ]
    }
   ],
   "source": [
    "# Integer\n",
    "k = 5\n",
    "print(type(k))   # <class 'int'>"
   ]
  },
  {
   "cell_type": "code",
   "execution_count": 4,
   "id": "f87c875a-4add-468a-9957-fddfe5b12544",
   "metadata": {},
   "outputs": [
    {
     "name": "stdout",
     "output_type": "stream",
     "text": [
      "<class 'float'>\n"
     ]
    }
   ],
   "source": [
    "# Float\n",
    "k = 5.079\n",
    "print(type(k))   # <class 'float'>\n"
   ]
  },
  {
   "cell_type": "code",
   "execution_count": 5,
   "id": "be87d72f-f998-418a-b8e4-c8f0e2c8d81a",
   "metadata": {},
   "outputs": [
    {
     "name": "stdout",
     "output_type": "stream",
     "text": [
      "<class 'complex'>\n"
     ]
    }
   ],
   "source": [
    "# Complex\n",
    "k = 1 + 2j\n",
    "print(type(k))   # <class 'complex'>"
   ]
  },
  {
   "cell_type": "code",
   "execution_count": 8,
   "id": "ae24c6b9-16b1-41b7-a7d0-1eaee96f834c",
   "metadata": {},
   "outputs": [
    {
     "data": {
      "text/plain": [
       "86.0"
      ]
     },
     "execution_count": 8,
     "metadata": {},
     "output_type": "execute_result"
    }
   ],
   "source": [
    "#convert into float\n",
    "k=float(86)\n",
    "k"
   ]
  },
  {
   "cell_type": "code",
   "execution_count": 10,
   "id": "34f500b2-f742-4a5e-89d9-e0b53d837402",
   "metadata": {},
   "outputs": [
    {
     "data": {
      "text/plain": [
       "(55+0j)"
      ]
     },
     "execution_count": 10,
     "metadata": {},
     "output_type": "execute_result"
    }
   ],
   "source": [
    "#convert into complex\n",
    "k=complex(55)\n",
    "k"
   ]
  },
  {
   "cell_type": "code",
   "execution_count": 11,
   "id": "385e1331-f69c-456d-9ea3-8050a527bcbe",
   "metadata": {},
   "outputs": [
    {
     "name": "stdout",
     "output_type": "stream",
     "text": [
      "4\n"
     ]
    }
   ],
   "source": [
    "#convert into str\n",
    "k=str(4)\n",
    "print(str(4))"
   ]
  },
  {
   "cell_type": "code",
   "execution_count": 12,
   "id": "a2729153-607f-4ef0-b25c-d57a2ac4a794",
   "metadata": {},
   "outputs": [
    {
     "name": "stdout",
     "output_type": "stream",
     "text": [
      "1.0\n",
      "2890.0\n"
     ]
    }
   ],
   "source": [
    "k=1+2890j\n",
    "print(k.real)\n",
    "print(k.imag)"
   ]
  },
  {
   "cell_type": "code",
   "execution_count": 13,
   "id": "704de9c7-524c-431d-bc61-75c79a2ea3a2",
   "metadata": {},
   "outputs": [
    {
     "name": "stdout",
     "output_type": "stream",
     "text": [
      "25\n",
      "25.5\n",
      "(25.5+0j)\n"
     ]
    }
   ],
   "source": [
    "k=25.5\n",
    "k1=int(k)\n",
    "k2=str(k)\n",
    "k3=complex(k)\n",
    "print(k1)\n",
    "print(k2)\n",
    "print(k3)"
   ]
  }
 ],
 "metadata": {
  "kernelspec": {
   "display_name": "Python [conda env:base] *",
   "language": "python",
   "name": "conda-base-py"
  },
  "language_info": {
   "codemirror_mode": {
    "name": "ipython",
    "version": 3
   },
   "file_extension": ".py",
   "mimetype": "text/x-python",
   "name": "python",
   "nbconvert_exporter": "python",
   "pygments_lexer": "ipython3",
   "version": "3.13.5"
  }
 },
 "nbformat": 4,
 "nbformat_minor": 5
}
