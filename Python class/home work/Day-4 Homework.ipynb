{
 "cells": [
  {
   "cell_type": "code",
   "execution_count": 1,
   "id": "ea1f1abe-c7c7-48ee-8ef3-c7732c723741",
   "metadata": {},
   "outputs": [
    {
     "name": "stdin",
     "output_type": "stream",
     "text": [
      "Enter a Number 150\n",
      "Enter a Number 50\n"
     ]
    }
   ],
   "source": [
    "#Arithmetic Operators\n",
    "a=int(input(\"Enter a Number\"))\n",
    "b=int(input(\"Enter a Number\"))"
   ]
  },
  {
   "cell_type": "code",
   "execution_count": 2,
   "id": "b5b61ff7-63a3-45ed-905d-63dae69432c8",
   "metadata": {},
   "outputs": [
    {
     "name": "stdout",
     "output_type": "stream",
     "text": [
      "200\n"
     ]
    }
   ],
   "source": [
    "print(a+b)"
   ]
  },
  {
   "cell_type": "code",
   "execution_count": 3,
   "id": "29e8866e-67c3-4060-963e-04c8edfe8ba6",
   "metadata": {},
   "outputs": [
    {
     "name": "stdout",
     "output_type": "stream",
     "text": [
      "100\n"
     ]
    }
   ],
   "source": [
    "print(a-b)"
   ]
  },
  {
   "cell_type": "code",
   "execution_count": 4,
   "id": "5ad9b1b4-312d-495c-8bb8-94ee6ffecc3d",
   "metadata": {},
   "outputs": [
    {
     "name": "stdout",
     "output_type": "stream",
     "text": [
      "7500\n"
     ]
    }
   ],
   "source": [
    "print(a*b)"
   ]
  },
  {
   "cell_type": "code",
   "execution_count": 15,
   "id": "21a0752a-11de-4e3c-a827-4e4bdcfdc5fe",
   "metadata": {},
   "outputs": [
    {
     "name": "stdout",
     "output_type": "stream",
     "text": [
      "13\n"
     ]
    }
   ],
   "source": [
    "#Assignment operators\n",
    "a+=10\n",
    "print(a)"
   ]
  },
  {
   "cell_type": "code",
   "execution_count": 16,
   "id": "216685cf-c369-4e27-827b-1cf1f399dffe",
   "metadata": {},
   "outputs": [
    {
     "name": "stdout",
     "output_type": "stream",
     "text": [
      "3\n"
     ]
    }
   ],
   "source": [
    "a-=10\n",
    "print(a)"
   ]
  },
  {
   "cell_type": "code",
   "execution_count": 19,
   "id": "59adc355-586b-480b-8469-01c197522fef",
   "metadata": {},
   "outputs": [
    {
     "name": "stdout",
     "output_type": "stream",
     "text": [
      "a == b: False\n"
     ]
    }
   ],
   "source": [
    "#comparison operator\n",
    "a = 10\n",
    "b = 3\n",
    "print(\"a == b:\", a == b)   # Equal to"
   ]
  },
  {
   "cell_type": "code",
   "execution_count": 18,
   "id": "cc5723c1-d7b0-4b30-bd7b-f9d88b9d806a",
   "metadata": {},
   "outputs": [
    {
     "name": "stdout",
     "output_type": "stream",
     "text": [
      "a != b: True\n"
     ]
    }
   ],
   "source": [
    "print(\"a != b:\", a != b)   # Not equal to"
   ]
  },
  {
   "cell_type": "code",
   "execution_count": 20,
   "id": "fdd2be59-3b8a-4b0d-ae97-9d17110f9539",
   "metadata": {},
   "outputs": [
    {
     "name": "stdout",
     "output_type": "stream",
     "text": [
      "a > b : True\n"
     ]
    }
   ],
   "source": [
    "print(\"a > b :\", a > b)    # Greater than"
   ]
  },
  {
   "cell_type": "code",
   "execution_count": 21,
   "id": "cd62c56b-8990-444e-bde6-4c56e874975e",
   "metadata": {},
   "outputs": [
    {
     "name": "stdout",
     "output_type": "stream",
     "text": [
      "False\n"
     ]
    }
   ],
   "source": [
    "#Logical operators\n",
    "a=1\n",
    "b=3\n",
    "print(a>5 and b<50)"
   ]
  }
 ],
 "metadata": {
  "kernelspec": {
   "display_name": "Python [conda env:base] *",
   "language": "python",
   "name": "conda-base-py"
  },
  "language_info": {
   "codemirror_mode": {
    "name": "ipython",
    "version": 3
   },
   "file_extension": ".py",
   "mimetype": "text/x-python",
   "name": "python",
   "nbconvert_exporter": "python",
   "pygments_lexer": "ipython3",
   "version": "3.13.5"
  }
 },
 "nbformat": 4,
 "nbformat_minor": 5
}
