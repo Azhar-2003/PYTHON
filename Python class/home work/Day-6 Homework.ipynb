{
 "cells": [
  {
   "cell_type": "code",
   "execution_count": 1,
   "id": "88608acd-3af4-41b4-a412-ed13449ac6f6",
   "metadata": {},
   "outputs": [
    {
     "name": "stdin",
     "output_type": "stream",
     "text": [
      "Enter your skill (python/java):  python\n",
      "Enter your experience (1 or 2):  1\n",
      "Enter your native place (Chennai/CBE):  chennai\n"
     ]
    },
    {
     "name": "stdout",
     "output_type": "stream",
     "text": [
      "Company: TCS\n"
     ]
    }
   ],
   "source": [
    "# Taking inputs\n",
    "skill = input(\"Enter your skill (python/java): \").lower()\n",
    "exp = int(input(\"Enter your experience (1 or 2): \"))\n",
    "native = input(\"Enter your native place (Chennai/CBE): \").capitalize()\n",
    "\n",
    "# Nested if conditions\n",
    "if skill == \"python\":\n",
    "    if exp == 1:\n",
    "        if native == \"Chennai\":\n",
    "            print(\"Company: TCS\")\n",
    "        else:\n",
    "            print(\"No match found\")\n",
    "    elif exp == 2:\n",
    "        if native == \"Chennai\":\n",
    "            print(\"Company: Wipro\")\n",
    "        else:\n",
    "            print(\"No match found\")\n",
    "\n",
    "elif skill == \"java\":\n",
    "    if exp == 1:\n",
    "        if native == \"Cbe\":\n",
    "            print(\"Company: Cognizant\")\n",
    "        elif native == \"Chennai\":\n",
    "            print(\"Company: Trios\")\n",
    "        else:\n",
    "            print(\"No match found\")\n",
    "    elif exp == 2:\n",
    "        if native == \"Cbe\":\n",
    "            print(\"Company: Accenture\")\n",
    "        elif native == \"Chennai\":\n",
    "            print(\"Company: HCL\")\n",
    "        else:\n",
    "            print(\"No match found\")\n",
    "else:\n",
    "    print(\"Skill not recognized\")\n",
    "\n",
    "        \n"
   ]
  }
 ],
 "metadata": {
  "kernelspec": {
   "display_name": "Python [conda env:base] *",
   "language": "python",
   "name": "conda-base-py"
  },
  "language_info": {
   "codemirror_mode": {
    "name": "ipython",
    "version": 3
   },
   "file_extension": ".py",
   "mimetype": "text/x-python",
   "name": "python",
   "nbconvert_exporter": "python",
   "pygments_lexer": "ipython3",
   "version": "3.13.5"
  }
 },
 "nbformat": 4,
 "nbformat_minor": 5
}
