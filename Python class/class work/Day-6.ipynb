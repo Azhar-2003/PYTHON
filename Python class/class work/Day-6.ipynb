{
 "cells": [
  {
   "cell_type": "code",
   "execution_count": 3,
   "id": "56e517ec-4502-4b67-9e9c-b73644695e14",
   "metadata": {},
   "outputs": [
    {
     "name": "stdout",
     "output_type": "stream",
     "text": [
      "10\n"
     ]
    }
   ],
   "source": [
    "a=5\n",
    "b=10\n",
    "c=6\n",
    "if(a>b and a>c):\n",
    "    print(a)\n",
    "elif(b>a and b>c):\n",
    "    print(b)\n",
    "else:\n",
    "    print(c)"
   ]
  },
  {
   "cell_type": "code",
   "execution_count": 4,
   "id": "2e44aa63-99c1-44fb-83a4-a328c9a70ec5",
   "metadata": {},
   "outputs": [
    {
     "name": "stdout",
     "output_type": "stream",
     "text": [
      "defined\n"
     ]
    }
   ],
   "source": [
    "a=\"apple\"\n",
    "if a in a:\n",
    "    print(\"defined\")\n",
    "else:\n",
    "    print(\"not defined\")"
   ]
  },
  {
   "cell_type": "code",
   "execution_count": null,
   "id": "d072dff7-cbb7-4507-8033-8f85cda522ab",
   "metadata": {},
   "outputs": [],
   "source": [
    "skill=int(input())\n",
    "exp=int(input())\n",
    "if skill==python:\n",
    "    \n"
   ]
  }
 ],
 "metadata": {
  "kernelspec": {
   "display_name": "Python [conda env:base] *",
   "language": "python",
   "name": "conda-base-py"
  },
  "language_info": {
   "codemirror_mode": {
    "name": "ipython",
    "version": 3
   },
   "file_extension": ".py",
   "mimetype": "text/x-python",
   "name": "python",
   "nbconvert_exporter": "python",
   "pygments_lexer": "ipython3",
   "version": "3.13.5"
  }
 },
 "nbformat": 4,
 "nbformat_minor": 5
}
